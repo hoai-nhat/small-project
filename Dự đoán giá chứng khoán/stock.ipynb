{
 "cells": [
  {
   "cell_type": "markdown",
   "metadata": {},
   "source": [
    "Import Thư viện"
   ]
  },
  {
   "cell_type": "code",
   "execution_count": 1,
   "metadata": {},
   "outputs": [],
   "source": [
    "import investpy\n",
    "import pandas as pd\n",
    "import datetime as dt\n",
    "\n",
    "from sklearn.preprocessing import MinMaxScaler\n",
    "\n",
    "import numpy as np\n",
    "\n",
    "from tensorflow.keras.models import Sequential\n",
    "from tensorflow.keras.layers import Dense, Dropout, LSTM\n",
    "\n",
    "import matplotlib.pyplot as plt"
   ]
  },
  {
   "cell_type": "markdown",
   "metadata": {},
   "source": [
    "Nhập mã chứng khoán bạn muốn dự đoán"
   ]
  },
  {
   "cell_type": "code",
   "execution_count": 4,
   "metadata": {},
   "outputs": [],
   "source": [
    "CK = input(\"Nhập mã chứng khoán\")"
   ]
  },
  {
   "cell_type": "markdown",
   "metadata": {},
   "source": [
    "Dowload data "
   ]
  },
  {
   "cell_type": "code",
   "execution_count": 6,
   "metadata": {},
   "outputs": [
    {
     "ename": "ConnectionError",
     "evalue": "ERR#0015: error 403, try again later.",
     "output_type": "error",
     "traceback": [
      "\u001b[1;31m---------------------------------------------------------------------------\u001b[0m",
      "\u001b[1;31mConnectionError\u001b[0m                           Traceback (most recent call last)",
      "\u001b[1;32mc:\\Users\\Admin\\Desktop\\small-project\\Dự đoán giá chứng khoán\\stock.ipynb Cell 6\u001b[0m in \u001b[0;36m<cell line: 3>\u001b[1;34m()\u001b[0m\n\u001b[0;32m      <a href='vscode-notebook-cell:/c%3A/Users/Admin/Desktop/small-project/D%E1%BB%B1%20%C4%91o%C3%A1n%20gi%C3%A1%20ch%E1%BB%A9ng%20kho%C3%A1n/stock.ipynb#W6sZmlsZQ%3D%3D?line=0'>1</a>\u001b[0m day \u001b[39m=\u001b[39m dt\u001b[39m.\u001b[39mdatetime\u001b[39m.\u001b[39mnow()\u001b[39m.\u001b[39mstrftime(\u001b[39m'\u001b[39m\u001b[39m%d\u001b[39;00m\u001b[39m/\u001b[39m\u001b[39m%\u001b[39m\u001b[39mm/\u001b[39m\u001b[39m%\u001b[39m\u001b[39mY\u001b[39m\u001b[39m'\u001b[39m)\n\u001b[0;32m      <a href='vscode-notebook-cell:/c%3A/Users/Admin/Desktop/small-project/D%E1%BB%B1%20%C4%91o%C3%A1n%20gi%C3%A1%20ch%E1%BB%A9ng%20kho%C3%A1n/stock.ipynb#W6sZmlsZQ%3D%3D?line=1'>2</a>\u001b[0m \u001b[39m#tải dữ liệu từ trang investing\u001b[39;00m\n\u001b[1;32m----> <a href='vscode-notebook-cell:/c%3A/Users/Admin/Desktop/small-project/D%E1%BB%B1%20%C4%91o%C3%A1n%20gi%C3%A1%20ch%E1%BB%A9ng%20kho%C3%A1n/stock.ipynb#W6sZmlsZQ%3D%3D?line=2'>3</a>\u001b[0m df \u001b[39m=\u001b[39m investpy\u001b[39m.\u001b[39;49mget_stock_historical_data(stock\u001b[39m=\u001b[39;49mCK,\n\u001b[0;32m      <a href='vscode-notebook-cell:/c%3A/Users/Admin/Desktop/small-project/D%E1%BB%B1%20%C4%91o%C3%A1n%20gi%C3%A1%20ch%E1%BB%A9ng%20kho%C3%A1n/stock.ipynb#W6sZmlsZQ%3D%3D?line=3'>4</a>\u001b[0m                                         country\u001b[39m=\u001b[39;49m\u001b[39m'\u001b[39;49m\u001b[39mVietnam\u001b[39;49m\u001b[39m'\u001b[39;49m,\n\u001b[0;32m      <a href='vscode-notebook-cell:/c%3A/Users/Admin/Desktop/small-project/D%E1%BB%B1%20%C4%91o%C3%A1n%20gi%C3%A1%20ch%E1%BB%A9ng%20kho%C3%A1n/stock.ipynb#W6sZmlsZQ%3D%3D?line=4'>5</a>\u001b[0m                                         from_date\u001b[39m=\u001b[39;49m\u001b[39m'\u001b[39;49m\u001b[39m01/01/2018\u001b[39;49m\u001b[39m'\u001b[39;49m,\n\u001b[0;32m      <a href='vscode-notebook-cell:/c%3A/Users/Admin/Desktop/small-project/D%E1%BB%B1%20%C4%91o%C3%A1n%20gi%C3%A1%20ch%E1%BB%A9ng%20kho%C3%A1n/stock.ipynb#W6sZmlsZQ%3D%3D?line=5'>6</a>\u001b[0m                                         to_date\u001b[39m=\u001b[39;49mday)\n\u001b[0;32m      <a href='vscode-notebook-cell:/c%3A/Users/Admin/Desktop/small-project/D%E1%BB%B1%20%C4%91o%C3%A1n%20gi%C3%A1%20ch%E1%BB%A9ng%20kho%C3%A1n/stock.ipynb#W6sZmlsZQ%3D%3D?line=6'>7</a>\u001b[0m \u001b[39mprint\u001b[39m(df\u001b[39m.\u001b[39mhead())\n",
      "File \u001b[1;32mc:\\Users\\Admin\\AppData\\Local\\Programs\\Python\\Python310\\lib\\site-packages\\investpy\\stocks.py:664\u001b[0m, in \u001b[0;36mget_stock_historical_data\u001b[1;34m(stock, country, from_date, to_date, as_json, order, interval)\u001b[0m\n\u001b[0;32m    661\u001b[0m req \u001b[39m=\u001b[39m requests\u001b[39m.\u001b[39mpost(url, headers\u001b[39m=\u001b[39mhead, data\u001b[39m=\u001b[39mparams)\n\u001b[0;32m    663\u001b[0m \u001b[39mif\u001b[39;00m req\u001b[39m.\u001b[39mstatus_code \u001b[39m!=\u001b[39m \u001b[39m200\u001b[39m:\n\u001b[1;32m--> 664\u001b[0m     \u001b[39mraise\u001b[39;00m \u001b[39mConnectionError\u001b[39;00m(\n\u001b[0;32m    665\u001b[0m         \u001b[39m\"\u001b[39m\u001b[39mERR#0015: error \u001b[39m\u001b[39m\"\u001b[39m \u001b[39m+\u001b[39m \u001b[39mstr\u001b[39m(req\u001b[39m.\u001b[39mstatus_code) \u001b[39m+\u001b[39m \u001b[39m\"\u001b[39m\u001b[39m, try again later.\u001b[39m\u001b[39m\"\u001b[39m\n\u001b[0;32m    666\u001b[0m     )\n\u001b[0;32m    668\u001b[0m \u001b[39mif\u001b[39;00m \u001b[39mnot\u001b[39;00m req\u001b[39m.\u001b[39mtext:\n\u001b[0;32m    669\u001b[0m     \u001b[39mcontinue\u001b[39;00m\n",
      "\u001b[1;31mConnectionError\u001b[0m: ERR#0015: error 403, try again later."
     ]
    }
   ],
   "source": [
    "day = dt.datetime.now().strftime('%d/%m/%Y')\n",
    "#tải dữ liệu từ trang investing\n",
    "df = investpy.get_stock_historical_data(stock=CK,\n",
    "                                        country='Vietnam',\n",
    "                                        from_date='01/01/2018',\n",
    "                                        to_date=day)\n",
    "print(df.head())"
   ]
  },
  {
   "cell_type": "markdown",
   "metadata": {},
   "source": [
    "Xử lý data ,và thêm chỉ số cần thiết để phân tích"
   ]
  },
  {
   "cell_type": "code",
   "execution_count": null,
   "metadata": {},
   "outputs": [],
   "source": [
    "df['H-L'] = df['High'] - df['Low']\n",
    "df['O-C'] = df['Open'] - df['Close']\n",
    "#sử dụng Moving Average để tính trung bình của tổng 7,14,21 ngày giao dịch\n",
    "ma_1 = 7\n",
    "ma_2 = 14\n",
    "ma_3 = 21\n",
    "df[f'SMA_{ma_1}'] = df['Close'].rolling(window=ma_1).mean()\n",
    "df[f'SMA_{ma_2}'] = df['Close'].rolling(window=ma_2).mean()\n",
    "df[f'SMA_{ma_3}'] = df['Close'].rolling(window=ma_3).mean()\n",
    "\n",
    "#sử dụng standard deviation để tính độ lệch chuẩn\n",
    "df[f'SD_{ma_1}'] = df['Close'].rolling(window=ma_1).std()\n",
    "df[f'SD_{ma_3}'] = df['Close'].rolling(window=ma_3).std()\n",
    "df.dropna(inplace=True)"
   ]
  },
  {
   "cell_type": "markdown",
   "metadata": {},
   "source": [
    "Lưa data ra file csv"
   ]
  },
  {
   "cell_type": "code",
   "execution_count": null,
   "metadata": {},
   "outputs": [],
   "source": [
    "df.to_csv(f\"{CK}.csv\")\n",
    "print(\"Done Loading Data\")"
   ]
  },
  {
   "cell_type": "markdown",
   "metadata": {},
   "source": [
    "Process Data "
   ]
  },
  {
   "cell_type": "code",
   "execution_count": null,
   "metadata": {},
   "outputs": [],
   "source": [
    "pre_day = 30\n",
    "#MinMaxScaler sẽ đưa các biến về miền giá trị [0, 1] giúp dự đoán nhanh hơn\n",
    "scala_x = MinMaxScaler(feature_range=(0, 1))\n",
    "scala_y = MinMaxScaler(feature_range=(0, 1))\n",
    "#cols_x,cols_y để dự đoán giá Close ngày tiếp theo\n",
    "cols_x = ['H-L', 'O-C', f'SMA_{ma_1}', f'SMA_{ma_2}', f'SMA_{ma_3}', f'SD_{ma_1}', f'SD_{ma_3}']\n",
    "cols_y = ['Close']\n",
    "scaled_data_x = scala_x.fit_transform(df[cols_x].values.reshape(-1, len(cols_x)))\n",
    "scaled_data_y = scala_y.fit_transform(df[cols_y].values.reshape(-1, len(cols_y)))\n",
    "\n",
    "#chứa từng bộ pre_day (30 ngày)\n",
    "x_total = []\n",
    "#chứa giá ngày ta đang xét\n",
    "y_total = []\n",
    "\n",
    "for i in range(pre_day, len(df)):\n",
    "    x_total.append(scaled_data_x[i-pre_day:i])\n",
    "    y_total.append(scaled_data_y[i])\n",
    "\n",
    "#lấy số ngày giao dịch cuối cùng để test\n",
    "test_size = 365\n",
    "\n",
    "x_train = np.array(x_total[:len(x_total)-test_size])\n",
    "x_test = np.array(x_total[len(x_total)-test_size:])\n",
    "y_train = np.array(y_total[:len(y_total)-test_size])\n",
    "y_test = np.array(y_total[len(y_total)-test_size:])\n",
    "\n",
    "print(x_train.shape, y_train.shape, x_test.shape, y_test.shape)"
   ]
  },
  {
   "cell_type": "markdown",
   "metadata": {},
   "source": [
    "Build Model"
   ]
  },
  {
   "cell_type": "code",
   "execution_count": null,
   "metadata": {},
   "outputs": [],
   "source": [
    "model = Sequential()\n",
    "\n",
    "model.add(LSTM(units=60, return_sequences=True, input_shape=(x_train.shape[1], x_train.shape[2])))\n",
    "model.add(Dropout(0.2))\n",
    "model.add(LSTM(units=60, return_sequences=True))\n",
    "model.add(Dropout(0.2))\n",
    "model.add(LSTM(units=60, return_sequences=True))\n",
    "model.add(Dropout(0.2))\n",
    "model.add(LSTM(units=60, return_sequences=True))\n",
    "model.add(Dropout(0.2))\n",
    "model.add(LSTM(units=60))\n",
    "model.add(Dropout(0.2))\n",
    "model.add(Dense(units=len(cols_y)))\n",
    "\n",
    "model.compile(optimizer='adam', loss='mean_squared_error')\n",
    "model.fit(x_train, y_train, epochs=120, steps_per_epoch=40, use_multiprocessing=True)\n",
    "model.save(f\"{CK}.h5\")\n",
    "print(\"Done Training Model\")"
   ]
  },
  {
   "cell_type": "markdown",
   "metadata": {},
   "source": [
    "Testing"
   ]
  },
  {
   "cell_type": "code",
   "execution_count": null,
   "metadata": {},
   "outputs": [],
   "source": [
    "predict_prices = model.predict(x_test)\n",
    "predict_prices = scala_y.inverse_transform(predict_prices)"
   ]
  },
  {
   "cell_type": "markdown",
   "metadata": {},
   "source": [
    "Ploting the Stat"
   ]
  },
  {
   "cell_type": "code",
   "execution_count": null,
   "metadata": {},
   "outputs": [],
   "source": [
    "real_price = df[len(df)-test_size:]['Close'].values.reshape(-1, 1)\n",
    "real_price = np.array(real_price)\n",
    "real_price = real_price.reshape(real_price.shape[0], 1)\n",
    "\n",
    "plt.plot(real_price, color=\"red\", label=f\"Real {CK} Prices\")\n",
    "plt.plot(predict_prices, color=\"blue\", label=f\"Predicted {CK} Prices\")\n",
    "plt.title(f\"{CK} Prices\")\n",
    "plt.xlabel(\"Time\")\n",
    "plt.ylabel(\"Stock Prices\")\n",
    "plt.ylim(bottom=0)\n",
    "plt.legend()\n",
    "plt.show()"
   ]
  },
  {
   "cell_type": "markdown",
   "metadata": {},
   "source": [
    "Đường màu xanh là đường mà chúng ta dự đoán \n"
   ]
  },
  {
   "cell_type": "markdown",
   "metadata": {},
   "source": [
    "Đường màu đỏ là đường giá thực , mình đưa vào để kiểm tra giá dự đoán có sát với thực tế không"
   ]
  },
  {
   "cell_type": "markdown",
   "metadata": {},
   "source": [
    "Nên đường dự đoán này là dự đoán 365 ngày trước ,nếu muốn dự đoán tương lai các bạn chỉnh test_size = 0"
   ]
  },
  {
   "cell_type": "markdown",
   "metadata": {},
   "source": [
    "Như các bạn thấy thì mô hình dự đoán đi khá sát với thực tế"
   ]
  },
  {
   "cell_type": "markdown",
   "metadata": {},
   "source": [
    "Mô hình này chỉ để học hỏi kiến thức không nên áp dụng vào thực tế"
   ]
  },
  {
   "cell_type": "code",
   "execution_count": null,
   "metadata": {},
   "outputs": [],
   "source": [
    "#dự đoán giá cho ngày tiếp theo\n",
    "x_predict = df[len(df)-pre_day:][cols_x].values.reshape(-1, len(cols_x))\n",
    "x_predict = scala_x.transform(x_predict)\n",
    "x_predict = np.array(x_predict)\n",
    "x_predict = x_predict.reshape(1, x_predict.shape[0], len(cols_x))\n",
    "prediction = model.predict(x_predict)\n",
    "prediction = scala_y.inverse_transform(prediction)\n",
    "print(prediction)"
   ]
  }
 ],
 "metadata": {
  "kernelspec": {
   "display_name": "Python 3.10.6 64-bit",
   "language": "python",
   "name": "python3"
  },
  "language_info": {
   "codemirror_mode": {
    "name": "ipython",
    "version": 3
   },
   "file_extension": ".py",
   "mimetype": "text/x-python",
   "name": "python",
   "nbconvert_exporter": "python",
   "pygments_lexer": "ipython3",
   "version": "3.10.6"
  },
  "orig_nbformat": 4,
  "vscode": {
   "interpreter": {
    "hash": "a42ccb73e7d9bfdf27e036f1d2b8b681e55fc0743cc5586bc2474d4a60f4b886"
   }
  }
 },
 "nbformat": 4,
 "nbformat_minor": 2
}
