{
 "cells": [
  {
   "cell_type": "markdown",
   "metadata": {},
   "source": [
    "Nộp lại yêu cầu 1 , yêu cầu 2 đã failed"
   ]
  },
  {
   "cell_type": "markdown",
   "metadata": {},
   "source": [
    "Import package"
   ]
  },
  {
   "cell_type": "code",
   "execution_count": 2,
   "metadata": {},
   "outputs": [],
   "source": [
    "from pyspark.sql import SparkSession , Window \n",
    "from pyspark.sql.functions import *\n",
    "from pyspark.sql.types import StructType, StructField, StringType, LongType, DoubleType, IntegerType, ArrayType\n",
    "from pyspark.sql import functions as f\n"
   ]
  },
  {
   "cell_type": "markdown",
   "metadata": {},
   "source": [
    "Đọc dữ liệu từ MongoDB với Spark"
   ]
  },
  {
   "cell_type": "code",
   "execution_count": 3,
   "metadata": {},
   "outputs": [],
   "source": [
    "spark_Questions=SparkSession \\\n",
    "    .builder \\\n",
    "    .master('local') \\\n",
    "    .appName('MyApp') \\\n",
    "    .config('spark.jars.packages', 'org.mongodb.spark:mongo-spark-connector_2.12:3.0.1') \\\n",
    "    .config('spark.mongodb.input.uri', 'mongodb://127.0.0.1/dep_303.Questions') \\\n",
    "    .config('spark.mongodb.output.uri', 'mongodb://127.0.0.1/dep_303') \\\n",
    "    .getOrCreate()\n",
    "kafka_Questions_df = spark_Questions.read \\\n",
    "    .format('com.mongodb.spark.sql.DefaultSource') \\\n",
    "    .option('uri', 'mongodb://127.0.0.1/dep_303.Questions') \\\n",
    "    .load()\n",
    "\n",
    "spark_answer=SparkSession \\\n",
    "    .builder \\\n",
    "    .master('local') \\\n",
    "    .appName('MyApp') \\\n",
    "    .config('spark.jars.packages', 'org.mongodb.spark:mongo-spark-connector_2.12:3.0.1') \\\n",
    "    .config('spark.mongodb.input.uri', 'mongodb://127.0.0.1/dep_303.Answers') \\\n",
    "    .config('spark.mongodb.output.uri', 'mongodb://127.0.0.1/dep_303') \\\n",
    "    .getOrCreate()\n",
    "kafka_answer_df = spark_answer.read \\\n",
    "    .option('uri', 'mongodb://127.0.0.1/dep_303.Answers') \\\n",
    "    .format('com.mongodb.spark.sql.DefaultSource') \\\n",
    "    .load()"
   ]
  },
  {
   "cell_type": "code",
   "execution_count": null,
   "metadata": {},
   "outputs": [],
   "source": [
    "kafka_Questions_df.show(5)\n",
    "kafka_answer_df.show(5)"
   ]
  },
  {
   "cell_type": "markdown",
   "metadata": {},
   "source": [
    "Chuẩn hóa dữ liệu Question"
   ]
  },
  {
   "cell_type": "code",
   "execution_count": 4,
   "metadata": {},
   "outputs": [
    {
     "name": "stdout",
     "output_type": "stream",
     "text": [
      "root\n",
      " |-- Body: string (nullable = true)\n",
      " |-- ClosedDate: date (nullable = true)\n",
      " |-- CreationDate: date (nullable = true)\n",
      " |-- Id: integer (nullable = true)\n",
      " |-- OwnerUserId: integer (nullable = true)\n",
      " |-- Score: integer (nullable = true)\n",
      " |-- Title: string (nullable = true)\n",
      " |-- _id: struct (nullable = true)\n",
      " |    |-- oid: string (nullable = true)\n",
      "\n",
      "+--------------------+----------+------------+----+-----------+-----+--------------------+--------------------+\n",
      "|                Body|ClosedDate|CreationDate|  Id|OwnerUserId|Score|               Title|                 _id|\n",
      "+--------------------+----------+------------+----+-----------+-----+--------------------+--------------------+\n",
      "|<p>I've written a...|      null|  2008-08-01|  80|         26|   26|SQLStatement.exec...|{62e28195c5852c9c...|\n",
      "|<p>Has anyone got...|      null|  2008-08-01| 120|         83|   21|   ASP.NET Site Maps|{62e28195c5852c9c...|\n",
      "|<p>Are there any ...|2012-12-26|  2008-08-01|  90|         58|  144|Good branching an...|{62e28195c5852c9c...|\n",
      "|<p>I have a littl...|      null|  2008-08-01| 260|         91|   49|Adding scripting ...|{62e28195c5852c9c...|\n",
      "|<p>This is someth...|      null|  2008-08-01| 180|    2089740|   53|Function for crea...|{62e28195c5852c9c...|\n",
      "|<p>I am working o...|      null|  2008-08-02| 330|         63|   29|Should I use nest...|{62e28195c5852c9c...|\n",
      "|<p>I've been writ...|2016-03-26|  2008-08-02| 470|         71|   13|Homegrown consump...|{62e28195c5852c9c...|\n",
      "|<p>I wonder how y...|      null|  2008-08-02| 580|         91|   21|Deploying SQL Ser...|{62e28195c5852c9c...|\n",
      "|<p>I would like t...|      null|  2008-08-03| 650|        143|   79|Automatically upd...|{62e28195c5852c9c...|\n",
      "|<p>I'm trying to ...|      null|  2008-08-03| 810|        233|    9|Visual Studio Set...|{62e28195c5852c9c...|\n",
      "|<p>What's the sim...|      null|  2008-08-04| 930|        245|   28|How do I connect ...|{62e28195c5852c9c...|\n",
      "|<p>I need to grab...|      null|  2008-08-04|1010|         67|   14|How to get the va...|{62e28195c5852c9c...|\n",
      "|<p>I'm looking fo...|      null|  2008-08-04|1040|        254|   42|How do I delete a...|{62e28195c5852c9c...|\n",
      "|<p>What is the co...|      null|  2008-08-04|1070|        236|   17|Process size on UNIX|{62e28195c5852c9c...|\n",
      "|<p>I am using CCN...|      null|  2008-08-04|1160|        120|   36|Use SVN Revision ...|{62e28195c5852c9c...|\n",
      "|<p>I am looking t...|      null|  2008-08-04|1180|        281|   17|How to make subdo...|{62e28195c5852c9c...|\n",
      "|<p>I'm setting up...|      null|  2008-08-04|1390|         60|   18|Is Windows Server...|{62e28195c5852c9c...|\n",
      "|<p>I am using MSB...|      null|  2008-08-04|1300|         91|   23|Is nAnt still sup...|{62e28195c5852c9c...|\n",
      "|<p>If I'm adding ...|      null|  2008-08-04|1610|        328|   63|Can I logically r...|{62e28195c5852c9c...|\n",
      "|<p>I always creat...|      null|  2008-08-04|1600|        230|   18|What is the best ...|{62e28195c5852c9c...|\n",
      "+--------------------+----------+------------+----+-----------+-----+--------------------+--------------------+\n",
      "only showing top 20 rows\n",
      "\n"
     ]
    }
   ],
   "source": [
    "#Chuẩn hóa dữ liệu\n",
    "Questions_df =kafka_Questions_df.withColumn(\"CreationDate\",to_date(col(\"CreationDate\"),\"yyyy-MM-dd'T'HH:mm:ss'Z'\")) \\\n",
    "                                .withColumn(\"ClosedDate\",to_date(col(\"ClosedDate\"),\"yyyy-MM-dd'T'HH:mm:ss'Z'\")) \\\n",
    "                                .withColumn(\"OwnerUserId\",kafka_Questions_df[\"OwnerUserId\"].cast(IntegerType()))\n",
    "Questions_df.printSchema()\n",
    "Questions_df.show()"
   ]
  },
  {
   "cell_type": "markdown",
   "metadata": {},
   "source": [
    "Chuẩn hoá dữ liệu cho Answer"
   ]
  },
  {
   "cell_type": "code",
   "execution_count": null,
   "metadata": {},
   "outputs": [],
   "source": [
    "#Chuẩn hóa dữ liệu\n",
    "Answers_df =kafka_answer_df.withColumn(\"CreationDate\",to_date(col(\"CreationDate\"),\"yyyy-MM-dd'T'HH:mm:ss'Z'\")) \\\n",
    "                                .withColumn(\"OwnerUserId\",kafka_answer_df[\"OwnerUserId\"].cast(IntegerType()))\n",
    "Answers_df.printSchema()\n",
    "Answers_df.show()"
   ]
  },
  {
   "cell_type": "markdown",
   "metadata": {},
   "source": [
    "Yêu cầu 1: Tính số lần xuất hiện của các ngôn ngữ lập trình"
   ]
  },
  {
   "cell_type": "code",
   "execution_count": 6,
   "metadata": {},
   "outputs": [],
   "source": [
    "#regex Programing Language\n",
    "r = 'Java|Python|[C][+][+]|C#|Go|Ruby|PHP|HTML|CSS|SQL'"
   ]
  },
  {
   "cell_type": "code",
   "execution_count": 66,
   "metadata": {},
   "outputs": [
    {
     "name": "stdout",
     "output_type": "stream",
     "text": [
      "+-------------------+------+\n",
      "|Programing Language| count|\n",
      "+-------------------+------+\n",
      "|                 C#| 32414|\n",
      "|                C++| 28866|\n",
      "|                CSS| 33556|\n",
      "|               HTML| 89646|\n",
      "|                PHP| 63479|\n",
      "|                SQL|146094|\n",
      "|                 Go| 79912|\n",
      "|               Ruby| 16318|\n",
      "|             Python| 44817|\n",
      "|               Java|106659|\n",
      "+-------------------+------+\n",
      "\n"
     ]
    }
   ],
   "source": [
    "#tìm tất cả các ngôn ngữ\n",
    "Yeu_cau_1=kafka_Questions_df.withColumn(\"Body\", f.expr(f\"regexp_extract_all(Body, '{r}', 0)\"))\n",
    "#đưa các ngôn ngữ thành từng row\n",
    "Yeu_cau_1 = Yeu_cau_1.select(f.explode('Body').alias(\"Programing Language\"))\n",
    "#group >> output\n",
    "Yeu_cau_1.groupBy(\"Programing Language\").agg(f.count(\"Programing Language\").alias(\"count\")).show()"
   ]
  },
  {
   "cell_type": "markdown",
   "metadata": {},
   "source": [
    "Yêu cầu 2 : Tìm các domain được sử dụng nhiều nhất trong các câu hỏi"
   ]
  },
  {
   "cell_type": "code",
   "execution_count": 5,
   "metadata": {},
   "outputs": [],
   "source": [
    "#regex domain\n",
    "r_2='(?:[a-z0-9](?:[a-z0-9-]{0,61}[a-z0-9])?\\.)+[a-z0-9][a-z0-9-]{0,61}[a-z0-9]'"
   ]
  },
  {
   "cell_type": "code",
   "execution_count": null,
   "metadata": {},
   "outputs": [],
   "source": [
    "#lấy tất cả các domain trong row\n",
    "a1 =kafka_Questions_df.withColumn(\"Body\", f.expr(f\"regexp_extract_all(Body, '{r_2}', 0)\"))\n",
    "#đưa Domain thành từng row\n",
    "a2 = a1.select(f.explode('Body').alias('Domain'))\n",
    "#group >>  output\n",
    "a3 =a2.groupBy(\"Domain\").agg(f.count(\"Domain\").alias(\"count\")).show()"
   ]
  },
  {
   "cell_type": "code",
   "execution_count": null,
   "metadata": {},
   "outputs": [],
   "source": [
    "#Yeu_cau_2= kafka_Questions_df.withColumn(\"Body\" , f.regexp_extract(\"Body\",r_2, 0))\n",
    "#Yeu_cau_2.groupBy(\"Body\").agg(f.count(\"Body\").alias(\"count\")).show()"
   ]
  },
  {
   "cell_type": "markdown",
   "metadata": {},
   "source": [
    "Yêu cầu 3 : Tính tổng điểm của User theo từng ngày"
   ]
  },
  {
   "cell_type": "code",
   "execution_count": null,
   "metadata": {},
   "outputs": [
    {
     "name": "stdout",
     "output_type": "stream",
     "text": [
      "+-----------+------------+----------+\n",
      "|OwnerUserId|CreationDate|TotalScore|\n",
      "+-----------+------------+----------+\n",
      "|       1464|  2008-08-19|        38|\n",
      "|       9947|  2008-09-15|         7|\n",
      "|       1220|  2008-09-18|         1|\n",
      "|      18010|  2008-09-18|         6|\n",
      "|         45|  2008-08-05|        12|\n",
      "|        509|  2008-08-12|         0|\n",
      "|        522|  2008-08-22|         4|\n",
      "|        946|  2008-09-02|       978|\n",
      "|       4257|  2008-09-11|         2|\n",
      "|       8344|  2008-09-15|        42|\n",
      "|        832|  2008-09-03|         6|\n",
      "|       8446|  2008-09-16|        34|\n",
      "|       1848|  2008-08-18|        26|\n",
      "|       1560|  2008-08-19|       130|\n",
      "|       1693|  2008-08-25|         7|\n",
      "|       2515|  2008-09-02|         3|\n",
      "|        305|  2008-09-02|         9|\n",
      "|       3225|  2008-09-12|         8|\n",
      "|       2755|  2008-09-18|        32|\n",
      "|        466|  2008-08-22|         4|\n",
      "+-----------+------------+----------+\n",
      "only showing top 20 rows\n",
      "\n"
     ]
    }
   ],
   "source": [
    "Yeu_cau_3 = Questions_df.groupBy(\"OwnerUserId\",\"CreationDate\").agg(f.sum(\"Score\").alias(\"TotalScore\")).show()"
   ]
  },
  {
   "cell_type": "markdown",
   "metadata": {},
   "source": [
    "Yêu cầu 4: Tính tổng số điểm mà User đạt được trong một khoảng thời gian"
   ]
  },
  {
   "cell_type": "code",
   "execution_count": null,
   "metadata": {},
   "outputs": [
    {
     "name": "stdout",
     "output_type": "stream",
     "text": [
      "+-----------+------------+----------+\n",
      "|OwnerUserId|CreationDate|TotalScore|\n",
      "+-----------+------------+----------+\n",
      "|         83|  2008-08-01|        21|\n",
      "|         26|  2008-08-01|        26|\n",
      "|         91|  2008-08-01|        49|\n",
      "|         58|  2008-08-01|       144|\n",
      "|    2089740|  2008-08-01|        53|\n",
      "|         71|  2008-08-02|        13|\n",
      "|         63|  2008-08-02|        29|\n",
      "|         91|  2008-08-02|        70|\n",
      "|        143|  2008-08-03|        79|\n",
      "|        233|  2008-08-03|         9|\n",
      "|         60|  2008-08-04|        18|\n",
      "|         67|  2008-08-04|        14|\n",
      "|        245|  2008-08-04|        28|\n",
      "|        236|  2008-08-04|        17|\n",
      "|         91|  2008-08-04|        93|\n",
      "|        120|  2008-08-04|        36|\n",
      "|        254|  2008-08-04|        42|\n",
      "|        328|  2008-08-04|        63|\n",
      "|        230|  2008-08-04|        18|\n",
      "|        281|  2008-08-04|        17|\n",
      "+-----------+------------+----------+\n",
      "only showing top 20 rows\n",
      "\n"
     ]
    }
   ],
   "source": [
    "#cửa sổ trược\n",
    "running_total_window = Window.partitionBy(\"OwnerUserId\") \\\n",
    "        .orderBy(\"CreationDate\") \\\n",
    "        .rowsBetween(Window.unboundedPreceding, Window.currentRow)\n",
    "\n",
    "Yeu_cau_4 = Questions_df.withColumn(\"TotalScore\",\n",
    "                          f.sum(\"Score\").over(running_total_window)) \n",
    "\n",
    "Yeu_cau_4.select(\"OwnerUserId\",\"CreationDate\",\"TotalScore\").orderBy(\"CreationDate\").show()"
   ]
  },
  {
   "cell_type": "markdown",
   "metadata": {},
   "source": [
    " Yêu cầu 5: Tìm các câu hỏi có nhiều câu trả lời"
   ]
  },
  {
   "cell_type": "code",
   "execution_count": null,
   "metadata": {},
   "outputs": [],
   "source": [
    "#làm quen với join\n",
    "#join 2 datafame\n",
    "join_expr = Questions_df.Id == Answers_df.ParentId\n",
    "\n",
    "Yeu_cau_5 = Questions_df.join(Answers_df, join_expr, \"inner\").groupBy(\"ParentId\").agg(f.count(\"ParentId\").alias(\"Total\"))"
   ]
  },
  {
   "cell_type": "code",
   "execution_count": null,
   "metadata": {},
   "outputs": [
    {
     "name": "stdout",
     "output_type": "stream",
     "text": [
      "+--------+-----+\n",
      "|ParentId|Total|\n",
      "+--------+-----+\n",
      "|     180|    9|\n",
      "|     260|    9|\n",
      "|     330|   10|\n",
      "|     580|   14|\n",
      "|     650|    6|\n",
      "|     930|    7|\n",
      "|    1040|    7|\n",
      "|    1160|   12|\n",
      "|    1300|    7|\n",
      "|    1390|    6|\n",
      "|    1600|    5|\n",
      "|    1610|    8|\n",
      "|    1760|   12|\n",
      "|    1970|    8|\n",
      "|    2120|    7|\n",
      "|    2250|    5|\n",
      "|    2300|    6|\n",
      "|    2530|   38|\n",
      "|    2540|    5|\n",
      "|    2550|    7|\n",
      "+--------+-----+\n",
      "only showing top 20 rows\n",
      "\n"
     ]
    }
   ],
   "source": [
    "# Total đang kiểu dữ liệu bigint nên cần chuyển về int\n",
    "Yeu_cau_5.withColumn(\"Total\",Yeu_cau_5[\"Total\"].cast(IntegerType()))\n",
    "Yeu_cau_5.filter(col(\"Total\") >= 5).orderBy(\"ParentId\").show()"
   ]
  },
  {
   "cell_type": "code",
   "execution_count": null,
   "metadata": {},
   "outputs": [
    {
     "name": "stdout",
     "output_type": "stream",
     "text": [
      "+--------+-----+\n",
      "|ParentId|ToTal|\n",
      "+--------+-----+\n",
      "|     180|    9|\n",
      "|     260|    9|\n",
      "|     330|   10|\n",
      "|     580|   14|\n",
      "|     650|    6|\n",
      "|     930|    7|\n",
      "|    1040|    7|\n",
      "|    1160|   12|\n",
      "|    1300|    7|\n",
      "|    1390|    6|\n",
      "|    1600|    5|\n",
      "|    1610|    8|\n",
      "|    1760|   12|\n",
      "|    1970|    8|\n",
      "|    2120|    7|\n",
      "|    2250|    5|\n",
      "|    2300|    6|\n",
      "|    2530|   38|\n",
      "|    2540|    5|\n",
      "|    2550|    7|\n",
      "+--------+-----+\n",
      "only showing top 20 rows\n",
      "\n"
     ]
    }
   ],
   "source": [
    "a = Answers_df.groupBy(\"ParentId\").agg(f.count(\"ParentId\").alias(\"Total\"))\n",
    "a.filter(col(\"Total\") >= 5).orderBy(\"ParentId\").show()"
   ]
  },
  {
   "cell_type": "markdown",
   "metadata": {},
   "source": [
    "(Nâng cao) Yêu cầu 6: Tìm các Active User"
   ]
  },
  {
   "cell_type": "code",
   "execution_count": null,
   "metadata": {},
   "outputs": [],
   "source": [
    "#đổi tên cột cho dể làm việc\n",
    "product_question_df = Questions_df.withColumnRenamed(\"CreationDate\",\"CreationDate_question\") \\\n",
    "    .withColumnRenamed(\"OwnerUserId\", \"OwnerUserId_question\") \\\n",
    "    .withColumnRenamed(\"Score\", \"Score_question\") \\\n",
    "    .withColumnRenamed(\"Id\",\"Id_question\")\n",
    "product_answer_df = Answers_df.withColumnRenamed(\"Id\",\"Id_answer\") \\\n",
    "    .withColumnRenamed(\"CreationDate\" , \"CreationDate_answer\")"
   ]
  },
  {
   "cell_type": "code",
   "execution_count": null,
   "metadata": {},
   "outputs": [],
   "source": [
    "#join 2 colection QUestion và Answer\n",
    "join_expr_6 = product_question_df.Id_question == product_answer_df.ParentId\n",
    "Join_6 = product_question_df.join(product_answer_df, join_expr_6, \"inner\") \\\n",
    "    .selectExpr(\"Id_question\",\"Id_answer\",\"CreationDate_question\",\"CreationDate_answer\",\"Score_question\",\"OwnerUserId_question\")"
   ]
  },
  {
   "cell_type": "code",
   "execution_count": null,
   "metadata": {},
   "outputs": [
    {
     "data": {
      "text/plain": [
       "DataFrame[Id_question: int, CreationDate_question: date, Score_question: int, OwnerUserId_question: int, Total: int]"
      ]
     },
     "execution_count": 47,
     "metadata": {},
     "output_type": "execute_result"
    }
   ],
   "source": [
    "User_1 = Join_6.groupBy(\"Id_question\" ,\"CreationDate_question\" ,\"Score_question\",\"OwnerUserId_question\" ) \\\n",
    "    .agg(f.count(\"Id_question\").alias(\"Total\"))\n",
    "\n",
    "# Total đang kiểu dữ liệu bigint nên cần chuyển về int\n",
    "User_1.withColumn('Total',User_1['Total'].cast(IntegerType()))"
   ]
  },
  {
   "cell_type": "markdown",
   "metadata": {},
   "source": [
    "vấn đề này em chia 3 yêu cầu filter thành 3 datafame . sau đó dùng Full outer join 3 datafame đó để có được ID_questtion . Cuối cùng em inner join giữa ID_question và Question_df để lấy được User"
   ]
  },
  {
   "cell_type": "code",
   "execution_count": null,
   "metadata": {},
   "outputs": [
    {
     "name": "stdout",
     "output_type": "stream",
     "text": [
      "+-----------+\n",
      "|Id_question|\n",
      "+-----------+\n",
      "|      23930|\n",
      "|      38210|\n",
      "|      40480|\n",
      "|     100420|\n",
      "|     106340|\n",
      "|     202750|\n",
      "|     226970|\n",
      "|     406760|\n",
      "|     490420|\n",
      "|    1218390|\n",
      "|    2155930|\n",
      "+-----------+\n",
      "\n"
     ]
    }
   ],
   "source": [
    "User_1 = User_1.filter(col(\"Total\") >=50).selectExpr(\"Id_question\")\n",
    "User_1.show()"
   ]
  },
  {
   "cell_type": "code",
   "execution_count": null,
   "metadata": {},
   "outputs": [
    {
     "name": "stdout",
     "output_type": "stream",
     "text": [
      "+--------+\n",
      "|ParentId|\n",
      "+--------+\n",
      "|   32260|\n",
      "|   23250|\n",
      "|   23930|\n",
      "|   34510|\n",
      "|   18450|\n",
      "|    9410|\n",
      "|   11620|\n",
      "|    2530|\n",
      "|   16100|\n",
      "|  100420|\n",
      "| 1100260|\n",
      "| 1283960|\n",
      "| 1459750|\n",
      "|   65820|\n",
      "|  406230|\n",
      "|  894860|\n",
      "|  105770|\n",
      "| 1466000|\n",
      "| 1960240|\n",
      "|  490420|\n",
      "+--------+\n",
      "only showing top 20 rows\n",
      "\n"
     ]
    }
   ],
   "source": [
    "User_2 = Answers_df.groupBy(\"ParentId\").agg(f.sum(\"Score\").alias(\"sum\"))\n",
    "User_2 = User_2.filter(col(\"sum\") >= 500).selectExpr(\"ParentId\")\n",
    "User_2.show()"
   ]
  },
  {
   "cell_type": "code",
   "execution_count": null,
   "metadata": {},
   "outputs": [
    {
     "name": "stdout",
     "output_type": "stream",
     "text": [
      "+-----------+\n",
      "|Id_question|\n",
      "+-----------+\n",
      "|       1160|\n",
      "|       3400|\n",
      "|       4880|\n",
      "|       6080|\n",
      "|       8050|\n",
      "|       8800|\n",
      "|       9240|\n",
      "|       9750|\n",
      "|      10230|\n",
      "|      10260|\n",
      "|      10860|\n",
      "|      11330|\n",
      "|      11500|\n",
      "|      11620|\n",
      "|      12870|\n",
      "|      13000|\n",
      "|      15690|\n",
      "|      16460|\n",
      "|      16550|\n",
      "|      16860|\n",
      "+-----------+\n",
      "only showing top 20 rows\n",
      "\n"
     ]
    }
   ],
   "source": [
    "User_3 = Join_6.groupBy(\"Id_question\", \"CreationDate_answer\").agg(f.count(\"CreationDate_answer\").alias(\"Total\"))\n",
    "# Total đang kiểu dữ liệu bigint nên cần chuyển về int\n",
    "User_3.withColumn('Total',User_3['Total'].cast(IntegerType()))\n",
    "User_3 = User_3.filter(col(\"Total\") > 5).selectExpr(\"Id_question\")\n",
    "User_3.show()"
   ]
  },
  {
   "cell_type": "code",
   "execution_count": null,
   "metadata": {},
   "outputs": [],
   "source": [
    "#full outer join\n",
    "join_expr_full_1 = User_1.Id_question == User_2.ParentId\n",
    "User_12 = User_1.join(User_2,join_expr_full_1,\"outer\").select(\"ParentId\")"
   ]
  },
  {
   "cell_type": "code",
   "execution_count": null,
   "metadata": {},
   "outputs": [],
   "source": [
    "join_expr_full_2 = User_12.ParentId == User_3.Id_question\n",
    "User_123 = User_12.join(User_3,join_expr_full_2,\"outer\").select(\"*\").show()"
   ]
  }
 ],
 "metadata": {
  "kernelspec": {
   "display_name": "Python 3.9.13 64-bit (windows store)",
   "language": "python",
   "name": "python3"
  },
  "language_info": {
   "codemirror_mode": {
    "name": "ipython",
    "version": 3
   },
   "file_extension": ".py",
   "mimetype": "text/x-python",
   "name": "python",
   "nbconvert_exporter": "python",
   "pygments_lexer": "ipython3",
   "version": "3.9.13"
  },
  "orig_nbformat": 4,
  "vscode": {
   "interpreter": {
    "hash": "e74ad635087bc01ce4d8efdef521616d2dbca166f8e2190c95435387bff9dffe"
   }
  }
 },
 "nbformat": 4,
 "nbformat_minor": 2
}
