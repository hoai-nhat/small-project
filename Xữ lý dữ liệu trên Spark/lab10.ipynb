{
 "cells": [
  {
   "cell_type": "markdown",
   "metadata": {},
   "source": [
    "Import các Package cần thiết"
   ]
  },
  {
   "cell_type": "code",
   "execution_count": 12,
   "metadata": {},
   "outputs": [],
   "source": [
    "from pyspark.sql import SparkSession, Window\n",
    "from pyspark.sql.functions import from_json, col, to_timestamp, window, expr, sum\n",
    "from pyspark.sql.types import StructType, StructField, StringType, IntegerType"
   ]
  },
  {
   "cell_type": "markdown",
   "metadata": {},
   "source": [
    "Khởi tạo Spark Session"
   ]
  },
  {
   "cell_type": "code",
   "execution_count": 13,
   "metadata": {},
   "outputs": [],
   "source": [
    "spark = SparkSession \\\n",
    "        .builder \\\n",
    "        .appName(\"Tumbling Window Demo\") \\\n",
    "        .master(\"local[3]\") \\\n",
    "        .config(\"spark.streaming.stopGracefullyOnShutdown\", \"true\") \\\n",
    "        .config(\"spark.sql.shuffle.partitions\", 2) \\\n",
    "        .getOrCreate()"
   ]
  },
  {
   "cell_type": "markdown",
   "metadata": {},
   "source": [
    "Tạo schema cho dữ liệu đầu vào"
   ]
  },
  {
   "cell_type": "code",
   "execution_count": 14,
   "metadata": {},
   "outputs": [],
   "source": [
    "stock_schema = StructType([\n",
    "        StructField(\"CreatedTime\", StringType()),\n",
    "        StructField(\"Type\", StringType()),\n",
    "        StructField(\"Amount\", IntegerType()),\n",
    "        StructField(\"BrokerCode\", StringType())\n",
    "])"
   ]
  },
  {
   "cell_type": "markdown",
   "metadata": {},
   "source": [
    "Hãy hoàn thiện các phần [...] để hoàn thiện đoạn code và giải quyết bài toán theo yêu cầu."
   ]
  },
  {
   "cell_type": "code",
   "execution_count": null,
   "metadata": {},
   "outputs": [],
   "source": [
    "# Đọc dữ liệu từ Kafka\n",
    "kafka_df = spark.readStream \\\n",
    "\t.format(\"kafka\") \\\n",
    "\t.option(\"kafka.bootstrap.servers\", \"localhost:9092\") \\\n",
    "\t.option(\"subscribe\", \"trades\") \\\n",
    "\t.option(\"startingOffsets\", \"earliest\") \\\n",
    "\t.load()\n",
    "\n",
    "# Chuyển dữ liệu từ dạng JSON về MapType()\n",
    "value_df = kafka_df.select(from_json(col(\"value\").cast(\"string\"), stock_schema).alias(\"value\"))\n",
    "\n",
    "# Trích xuất các dữ liệu\n",
    "trade_df = value_df.select(\"value.*\") \\\n",
    "\t.withColumn(\"CreatedTime\",  to_timestamp(col(\"CreatedTime\"), \"yyyy-MM-dd HH:mm:ss\")) \\\n",
    "\t.withColumn(\"Buy\",expr(\"case when Type == 'BUY' then Amount else 0 end\")) \\\n",
    "\t.withColumn(\"Sell\",expr(\"case when Type == 'SELL' then Amount else 0 end\"))\n",
    "\n",
    "# Sử dụng cơ chế Tumbling Window\n",
    "window_agg_df = trade_df \\\n",
    "\t.groupBy( # col(\"BrokerCode\"),\n",
    "\t\twindow(col(\"CreatedTime\"), \"15 minute\")) \\\n",
    "\t.agg(sum(\"Buy\").alias(\"TotalBuy\"),\n",
    "\t\t\tsum(\"Sell\").alias(\"TotalSell\"))\n",
    "\n",
    "# Ghi dữ liệu đã xử lý\n",
    "output_df = window_agg_df.select(\"window.start\", \"window.end\", \"TotalBuy\", \"TotalSell\")\n",
    "\n",
    "window_query = output_df.writeStream \\\n",
    "\t.format(\"console\") \\\n",
    "\t.outputMode(\"update\") \\\n",
    "\t.option(\"checkpointLocation\", \"chk-point-dir\") \\\n",
    "\t.trigger(processingTime=\"1 minute\") \\\n",
    "\t.start()\n",
    "\n",
    "print(\"Waiting for Query\")\n",
    "window_query.awaitTermination()"
   ]
  }
 ],
 "metadata": {
  "kernelspec": {
   "display_name": "Python 3.9.13 64-bit (windows store)",
   "language": "python",
   "name": "python3"
  },
  "language_info": {
   "codemirror_mode": {
    "name": "ipython",
    "version": 3
   },
   "file_extension": ".py",
   "mimetype": "text/x-python",
   "name": "python",
   "nbconvert_exporter": "python",
   "pygments_lexer": "ipython3",
   "version": "3.9.13"
  },
  "orig_nbformat": 4,
  "vscode": {
   "interpreter": {
    "hash": "e74ad635087bc01ce4d8efdef521616d2dbca166f8e2190c95435387bff9dffe"
   }
  }
 },
 "nbformat": 4,
 "nbformat_minor": 2
}
